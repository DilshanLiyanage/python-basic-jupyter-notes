{
 "cells": [
  {
   "cell_type": "markdown",
   "metadata": {},
   "source": [
    "# Comparison and Logical Operators, Condition checking"
   ]
  },
  {
   "cell_type": "code",
   "execution_count": 4,
   "metadata": {},
   "outputs": [
    {
     "name": "stdout",
     "output_type": "stream",
     "text": [
      "one of above is true\n"
     ]
    }
   ],
   "source": [
    "# comparison operators\n",
    "# >, >=, <, <=, ==, |=\n",
    "\n",
    "# Logical operators\n",
    "# and, or, not\n",
    "\n",
    "num1 = 100\n",
    "num2 = 200\n",
    "name1 = \"Tharusha\"\n",
    "name2 = \"tharusha\"\n",
    "\n",
    "if num1 < 100:\n",
    "    print(\"Num1 is less than 100\")\n",
    "elif num1 > num2 and name1 == \"Tharusha\":\n",
    "    print(\"Both above are true\")\n",
    "elif name1 == \"Tharushaaa\" or name2 == \"tharusha\":\n",
    "    print(\"one of above is true\")\n",
    "else:\n",
    "    print(\"Non of above passed\")"
   ]
  },
  {
   "cell_type": "code",
   "execution_count": null,
   "metadata": {},
   "outputs": [],
   "source": []
  }
 ],
 "metadata": {
  "kernelspec": {
   "display_name": "Python 3",
   "language": "python",
   "name": "python3"
  },
  "language_info": {
   "codemirror_mode": {
    "name": "ipython",
    "version": 3
   },
   "file_extension": ".py",
   "mimetype": "text/x-python",
   "name": "python",
   "nbconvert_exporter": "python",
   "pygments_lexer": "ipython3",
   "version": "3.7.6"
  }
 },
 "nbformat": 4,
 "nbformat_minor": 4
}
