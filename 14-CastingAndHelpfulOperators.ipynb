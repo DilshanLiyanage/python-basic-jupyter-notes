{
 "cells": [
  {
   "cell_type": "code",
   "execution_count": 1,
   "metadata": {},
   "outputs": [
    {
     "data": {
      "text/plain": [
       "False"
      ]
     },
     "execution_count": 1,
     "metadata": {},
     "output_type": "execute_result"
    }
   ],
   "source": [
    "# Casting\n",
    "num_str = \"100\"\n",
    "num_str == 100"
   ]
  },
  {
   "cell_type": "code",
   "execution_count": 2,
   "metadata": {},
   "outputs": [
    {
     "data": {
      "text/plain": [
       "True"
      ]
     },
     "execution_count": 2,
     "metadata": {},
     "output_type": "execute_result"
    }
   ],
   "source": [
    "int(num_str) == 100"
   ]
  },
  {
   "cell_type": "code",
   "execution_count": 3,
   "metadata": {},
   "outputs": [
    {
     "name": "stdout",
     "output_type": "stream",
     "text": [
      "rat\n",
      "dog\n",
      "cat\n"
     ]
    }
   ],
   "source": [
    "lst = [\"dog\", \"cat\", \"rat\", \"dog\"]\n",
    "st = set(lst)\n",
    "for s in st:\n",
    "    print(s)"
   ]
  },
  {
   "cell_type": "code",
   "execution_count": 10,
   "metadata": {},
   "outputs": [
    {
     "name": "stdout",
     "output_type": "stream",
     "text": [
      "0 john\n",
      "1 david\n",
      "2 raj\n"
     ]
    }
   ],
   "source": [
    "# Helpful operators \n",
    "# in , enumerate, zipping, \n",
    "\n",
    "#enumerate\n",
    "lst = [\"john\", \"david\", \"raj\"]\n",
    "for index, name in enumerate(lst):\n",
    "    print(f\"{index} {name}\")"
   ]
  },
  {
   "cell_type": "code",
   "execution_count": 9,
   "metadata": {},
   "outputs": [
    {
     "name": "stdout",
     "output_type": "stream",
     "text": [
      "t  1\n",
      "d  2\n",
      "l  3\n"
     ]
    }
   ],
   "source": [
    "\n",
    "#zipping \n",
    "lst1 = ['t', 'd', 'l']\n",
    "lst2 = [1, 2, 3]\n",
    "for key, val in zip(lst1, lst2):\n",
    "    print(f\"{key}  {val}\")"
   ]
  },
  {
   "cell_type": "code",
   "execution_count": null,
   "metadata": {},
   "outputs": [],
   "source": []
  }
 ],
 "metadata": {
  "kernelspec": {
   "display_name": "Python 3",
   "language": "python",
   "name": "python3"
  },
  "language_info": {
   "codemirror_mode": {
    "name": "ipython",
    "version": 3
   },
   "file_extension": ".py",
   "mimetype": "text/x-python",
   "name": "python",
   "nbconvert_exporter": "python",
   "pygments_lexer": "ipython3",
   "version": "3.7.6"
  }
 },
 "nbformat": 4,
 "nbformat_minor": 4
}
