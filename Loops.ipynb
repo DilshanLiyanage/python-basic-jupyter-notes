{
 "cells": [
  {
   "cell_type": "markdown",
   "metadata": {},
   "source": [
    "# Loops"
   ]
  },
  {
   "cell_type": "code",
   "execution_count": 1,
   "metadata": {},
   "outputs": [],
   "source": [
    "# there is two loops, for loop and while loop"
   ]
  },
  {
   "cell_type": "code",
   "execution_count": 2,
   "metadata": {},
   "outputs": [
    {
     "name": "stdout",
     "output_type": "stream",
     "text": [
      "BMW\n",
      "Benz\n",
      "Audi\n"
     ]
    }
   ],
   "source": [
    "# For Looop\n",
    "cars = [\"BMW\", \"Benz\", \"Audi\"]\n",
    "for car in cars:\n",
    "    print(car)"
   ]
  },
  {
   "cell_type": "code",
   "execution_count": 3,
   "metadata": {},
   "outputs": [
    {
     "name": "stdout",
     "output_type": "stream",
     "text": [
      "T\n",
      "h\n",
      "a\n",
      "r\n",
      "u\n",
      "s\n",
      "h\n",
      "a\n",
      "D\n",
      "i\n",
      "l\n",
      "s\n",
      "h\n",
      "a\n",
      "n\n"
     ]
    }
   ],
   "source": [
    "name = \"TharushaDilshan\"\n",
    "for letter in name:\n",
    "    print(letter)"
   ]
  },
  {
   "cell_type": "code",
   "execution_count": 7,
   "metadata": {},
   "outputs": [
    {
     "data": {
      "text/plain": [
       "dict_items([('name', 'Dilshan'), ('subject', 'Maths'), ('marks', 89), ('is_passed', True)])"
      ]
     },
     "execution_count": 7,
     "metadata": {},
     "output_type": "execute_result"
    }
   ],
   "source": [
    "student = {\n",
    "    \"name\": \"Dilshan\",\n",
    "    \"subject\": \"Maths\",\n",
    "    \"marks\": 89,\n",
    "    \"is_passed\": True\n",
    "}\n",
    "\n",
    "student.items()"
   ]
  },
  {
   "cell_type": "code",
   "execution_count": 9,
   "metadata": {},
   "outputs": [
    {
     "name": "stdout",
     "output_type": "stream",
     "text": [
      "name \t\t Dilshan\n",
      "subject \t\t Maths\n",
      "marks \t\t 89\n",
      "is_passed \t\t True\n"
     ]
    }
   ],
   "source": [
    "for key, value in student.items():\n",
    "    print(f\"{key} \\t\\t {value}\")"
   ]
  },
  {
   "cell_type": "code",
   "execution_count": 10,
   "metadata": {},
   "outputs": [
    {
     "name": "stdout",
     "output_type": "stream",
     "text": [
      "while num is 10\n",
      "while num is 8\n",
      "while num is 6\n",
      "while num is 4\n",
      "while num is 2\n",
      "while num is 0\n"
     ]
    }
   ],
   "source": [
    "# While Loop\n",
    "num1 = 10\n",
    "while num1 >= 0:\n",
    "    print(f\"while num is {num1}\")\n",
    "    num1 -= 2"
   ]
  },
  {
   "cell_type": "code",
   "execution_count": 11,
   "metadata": {},
   "outputs": [
    {
     "name": "stdin",
     "output_type": "stream",
     "text": [
      "What is your name?  ruwan\n"
     ]
    },
    {
     "name": "stdout",
     "output_type": "stream",
     "text": [
      "I don't know you. Try again please.....\n"
     ]
    },
    {
     "name": "stdin",
     "output_type": "stream",
     "text": [
      "What is your name?  kamal\n"
     ]
    },
    {
     "name": "stdout",
     "output_type": "stream",
     "text": [
      "I don't know you. Try again please.....\n"
     ]
    },
    {
     "name": "stdin",
     "output_type": "stream",
     "text": [
      "What is your name?  Tharusha\n"
     ]
    },
    {
     "name": "stdout",
     "output_type": "stream",
     "text": [
      "Your are Tharusha. I know it\n"
     ]
    }
   ],
   "source": [
    "# Break or continue\n",
    "\n",
    "while True:\n",
    "    name = input(\"What is your name? \")\n",
    "    if(name.lower() == 'tharusha'):\n",
    "        print(\"Your are Tharusha. I know it\")\n",
    "        break\n",
    "    print(\"I don't know you. Try again please.....\")\n"
   ]
  },
  {
   "cell_type": "code",
   "execution_count": 12,
   "metadata": {},
   "outputs": [
    {
     "name": "stdout",
     "output_type": "stream",
     "text": [
      "orange\n",
      "mangoes\n",
      "woodapple\n",
      "banana\n"
     ]
    }
   ],
   "source": [
    "fruits = [\"orange\", \"mangoes\", \"woodapple\", \"apple\", \"banana\"]\n",
    "for fruit in fruits:\n",
    "    if fruit == 'apple':\n",
    "        continue\n",
    "    print(fruit)"
   ]
  },
  {
   "cell_type": "code",
   "execution_count": null,
   "metadata": {},
   "outputs": [],
   "source": []
  }
 ],
 "metadata": {
  "kernelspec": {
   "display_name": "Python 3",
   "language": "python",
   "name": "python3"
  },
  "language_info": {
   "codemirror_mode": {
    "name": "ipython",
    "version": 3
   },
   "file_extension": ".py",
   "mimetype": "text/x-python",
   "name": "python",
   "nbconvert_exporter": "python",
   "pygments_lexer": "ipython3",
   "version": "3.7.6"
  }
 },
 "nbformat": 4,
 "nbformat_minor": 4
}
