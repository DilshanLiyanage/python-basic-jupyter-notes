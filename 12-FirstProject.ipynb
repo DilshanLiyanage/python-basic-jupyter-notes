{
 "cells": [
  {
   "cell_type": "code",
   "execution_count": 3,
   "metadata": {},
   "outputs": [
    {
     "name": "stdin",
     "output_type": "stream",
     "text": [
      "What is your sentence?  This is from Tharusha\n"
     ]
    },
    {
     "name": "stdout",
     "output_type": "stream",
     "text": [
      "21\n"
     ]
    },
    {
     "name": "stdin",
     "output_type": "stream",
     "text": [
      "What is a file name?  tharusha_file\n"
     ]
    },
    {
     "name": "stdout",
     "output_type": "stream",
     "text": [
      "This is from Tharusha\n"
     ]
    }
   ],
   "source": [
    "sentence = input(\"What is your sentence? \")\n",
    "print(len(sentence))\n",
    "filename = input(\"What is a file name? \")\n",
    "actual_filename = filename + \".txt\"\n",
    "with open(actual_filename, \"w\") as f:\n",
    "    f.write(sentence)\n",
    "    f.close()\n",
    "\n",
    "with open(actual_filename, \"r\") as f:\n",
    "    content = f.read()\n",
    "    f.close()\n",
    "    \n",
    "print(content)"
   ]
  },
  {
   "cell_type": "code",
   "execution_count": null,
   "metadata": {},
   "outputs": [],
   "source": []
  }
 ],
 "metadata": {
  "kernelspec": {
   "display_name": "Python 3",
   "language": "python",
   "name": "python3"
  },
  "language_info": {
   "codemirror_mode": {
    "name": "ipython",
    "version": 3
   },
   "file_extension": ".py",
   "mimetype": "text/x-python",
   "name": "python",
   "nbconvert_exporter": "python",
   "pygments_lexer": "ipython3",
   "version": "3.7.6"
  }
 },
 "nbformat": 4,
 "nbformat_minor": 4
}
