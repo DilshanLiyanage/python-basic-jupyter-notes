{
 "cells": [
  {
   "cell_type": "markdown",
   "metadata": {},
   "source": [
    "# Decorators"
   ]
  },
  {
   "cell_type": "code",
   "execution_count": 1,
   "metadata": {},
   "outputs": [],
   "source": [
    "def first_func(dec_function):\n",
    "    \n",
    "    def second_func():\n",
    "        print(\"Before print\")\n",
    "        \n",
    "        dec_function()\n",
    "        \n",
    "        print(\"After print\")\n",
    "    \n",
    "    return second_func"
   ]
  },
  {
   "cell_type": "code",
   "execution_count": 2,
   "metadata": {},
   "outputs": [
    {
     "name": "stdout",
     "output_type": "stream",
     "text": [
      "Before print\n",
      "Decorator\n",
      "After print\n"
     ]
    }
   ],
   "source": [
    "@first_func\n",
    "def third_func():\n",
    "    print(\"Decorator\")\n",
    "\n",
    "third_func()"
   ]
  },
  {
   "cell_type": "code",
   "execution_count": 3,
   "metadata": {},
   "outputs": [],
   "source": [
    "# second example\n",
    "\n",
    "def main_func(dec_function):\n",
    "    \n",
    "    def wrapper_func():\n",
    "        val = dec_function()\n",
    "        print(f\"Before value = {val}\")\n",
    "        val = val * 100;\n",
    "        print(f\"After value = {val}\")\n",
    "        return val\n",
    "    \n",
    "    return wrapper_func\n",
    "\n",
    "\n",
    "@main_func\n",
    "def new_func():\n",
    "    return 5;"
   ]
  },
  {
   "cell_type": "code",
   "execution_count": 7,
   "metadata": {},
   "outputs": [
    {
     "name": "stdout",
     "output_type": "stream",
     "text": [
      "Before value = 5\n",
      "After value = 500\n",
      "500\n"
     ]
    }
   ],
   "source": [
    "print(new_func())"
   ]
  },
  {
   "cell_type": "code",
   "execution_count": null,
   "metadata": {},
   "outputs": [],
   "source": []
  }
 ],
 "metadata": {
  "kernelspec": {
   "display_name": "Python 3",
   "language": "python",
   "name": "python3"
  },
  "language_info": {
   "codemirror_mode": {
    "name": "ipython",
    "version": 3
   },
   "file_extension": ".py",
   "mimetype": "text/x-python",
   "name": "python",
   "nbconvert_exporter": "python",
   "pygments_lexer": "ipython3",
   "version": "3.7.6"
  }
 },
 "nbformat": 4,
 "nbformat_minor": 4
}
