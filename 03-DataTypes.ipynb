{
 "cells": [
  {
   "cell_type": "markdown",
   "metadata": {},
   "source": [
    "# Python Data Types"
   ]
  },
  {
   "cell_type": "code",
   "execution_count": 7,
   "metadata": {},
   "outputs": [],
   "source": [
    "# Numerics - integer, float and complex numbers\n",
    "# in numerics, there is no difference 1_000_000_000 = 1000000000\n",
    "age = 20\n",
    "count = 1_000_000_000\n",
    "price = 145.34\n",
    "avarage = 23.55\n",
    "fff = 34445333435.5677"
   ]
  },
  {
   "cell_type": "code",
   "execution_count": 2,
   "metadata": {},
   "outputs": [],
   "source": [
    "# Boolean - True or False\n",
    "is_visible = True\n",
    "did_run = False"
   ]
  },
  {
   "cell_type": "code",
   "execution_count": 4,
   "metadata": {},
   "outputs": [],
   "source": [
    "# Sequences - list, Tuples, Sets, String\n",
    "fruit = ['banana', 'apple', 'orange', 'apple']  # List - can mutable and have duplicates\n",
    "car = ('BMW', 'Benz', 'Toyota') # Tuple - immutable\n",
    "tree = {'Jack', 'Banana', 'Rose'} # Set - can mutable and unique values\n",
    "name = \"Tharusha Dilshan\" # String"
   ]
  },
  {
   "cell_type": "code",
   "execution_count": 5,
   "metadata": {},
   "outputs": [],
   "source": [
    "# Dictionary\n",
    "payload = {'name':'Liyanage', 'age':25, 'is_visible':True} # key-value pairs"
   ]
  },
  {
   "cell_type": "code",
   "execution_count": null,
   "metadata": {},
   "outputs": [],
   "source": []
  }
 ],
 "metadata": {
  "kernelspec": {
   "display_name": "Python 3",
   "language": "python",
   "name": "python3"
  },
  "language_info": {
   "codemirror_mode": {
    "name": "ipython",
    "version": 3
   },
   "file_extension": ".py",
   "mimetype": "text/x-python",
   "name": "python",
   "nbconvert_exporter": "python",
   "pygments_lexer": "ipython3",
   "version": "3.7.6"
  }
 },
 "nbformat": 4,
 "nbformat_minor": 4
}
