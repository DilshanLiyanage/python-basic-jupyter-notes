{
 "cells": [
  {
   "cell_type": "markdown",
   "metadata": {},
   "source": [
    "# Object Oriented Programming"
   ]
  },
  {
   "cell_type": "code",
   "execution_count": 2,
   "metadata": {},
   "outputs": [
    {
     "name": "stdout",
     "output_type": "stream",
     "text": [
      "Tharusha\n",
      "25\n",
      "False\n"
     ]
    }
   ],
   "source": [
    "# class\n",
    "\n",
    "class Person:\n",
    "    name = \"\"\n",
    "    age = 0\n",
    "    is_married = False\n",
    "    \n",
    "    def __init__(self, name, age, is_married):\n",
    "        self.name = name\n",
    "        self.age = age\n",
    "        self.is_married = is_married\n",
    "        is_married\n",
    "    def set_name(self, name):\n",
    "        self.name = name\n",
    "        \n",
    "    def get_name(self):\n",
    "        print(self.name)\n",
    "    \n",
    "    def set_age(self, age):\n",
    "        self.age = age\n",
    "        \n",
    "    def get_age(self):\n",
    "        print(self.age)\n",
    "        \n",
    "    def set_is_married(self, is_married):\n",
    "        self.is_married = is_married\n",
    "        \n",
    "    def get_is_married(self):\n",
    "        print(self.is_married)\n",
    "    \n",
    "person = Person(\"Tharusha\", 25, False)\n",
    "person.get_name()\n",
    "person.get_age()\n",
    "person.get_is_married()"
   ]
  },
  {
   "cell_type": "code",
   "execution_count": 5,
   "metadata": {},
   "outputs": [
    {
     "name": "stdout",
     "output_type": "stream",
     "text": [
      "What do animal says?\n",
      "What do animal says?\n",
      "Awwwww\n",
      "Bww Bww\n"
     ]
    }
   ],
   "source": [
    "# inheritance\n",
    "\n",
    "class Animal:\n",
    "    def __init__(self, model):\n",
    "        self.model = model\n",
    "    \n",
    "    def speak(self):\n",
    "        print(\"What do animal says?\")\n",
    "        \n",
    "class Fox(Animal):\n",
    "    #override\n",
    "    def speak(self):\n",
    "        super().speak() #this use to call super class method also.\n",
    "        print(\"Awwwww\")\n",
    "        \n",
    "class Dog(Animal):\n",
    "    #overide \n",
    "    def speak(self):\n",
    "        print(\"Bww Bww\")\n",
    "        \n",
    "animal = Animal(\"Animal\")\n",
    "animal.speak()\n",
    "fox = Fox(\"Fox\")\n",
    "fox.speak()\n",
    "dog = Dog(\"Dog\")\n",
    "dog.speak()\n"
   ]
  },
  {
   "cell_type": "code",
   "execution_count": null,
   "metadata": {},
   "outputs": [],
   "source": [
    "# Interface \n",
    "\n",
    "class A:\n",
    "    \n",
    "    def func1(self):\n",
    "        raise NotImplementedError(\"Not implemented error\")\n",
    "\n",
    "# if we inherite class A to our sub class, sub class should override func1 class otherwise it will be error\n"
   ]
  }
 ],
 "metadata": {
  "kernelspec": {
   "display_name": "Python 3",
   "language": "python",
   "name": "python3"
  },
  "language_info": {
   "codemirror_mode": {
    "name": "ipython",
    "version": 3
   },
   "file_extension": ".py",
   "mimetype": "text/x-python",
   "name": "python",
   "nbconvert_exporter": "python",
   "pygments_lexer": "ipython3",
   "version": "3.7.6"
  }
 },
 "nbformat": 4,
 "nbformat_minor": 4
}
